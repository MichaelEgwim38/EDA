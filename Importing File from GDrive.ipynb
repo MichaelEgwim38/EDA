{
  "nbformat": 4,
  "nbformat_minor": 0,
  "metadata": {
    "colab": {
      "provenance": [],
      "authorship_tag": "ABX9TyPauV+UC2t48ABjAsenPHIc",
      "include_colab_link": true
    },
    "kernelspec": {
      "name": "python3",
      "display_name": "Python 3"
    },
    "language_info": {
      "name": "python"
    }
  },
  "cells": [
    {
      "cell_type": "markdown",
      "metadata": {
        "id": "view-in-github",
        "colab_type": "text"
      },
      "source": [
        "<a href=\"https://colab.research.google.com/github/MichaelEgwim38/EDA/blob/main/Importing%20File%20from%20GDrive.ipynb\" target=\"_parent\"><img src=\"https://colab.research.google.com/assets/colab-badge.svg\" alt=\"Open In Colab\"/></a>"
      ]
    },
    {
      "cell_type": "code",
      "execution_count": 1,
      "metadata": {
        "id": "1PSb4XKJuxFA"
      },
      "outputs": [],
      "source": [
        "import pandas as pd\n",
        "import numpy as np\n",
        "import os\n",
        "\n",
        "import matplotlib.pyplot as plt\n",
        "import seaborn as sns\n",
        "%matplotlib inline\n",
        "sns.set_theme()"
      ]
    },
    {
      "cell_type": "code",
      "source": [
        "from sklearn.model_selection import train_test_split\n",
        "from sklearn.linear_model import LogisticRegression\n",
        "from sklearn.ensemble import RandomForestClassifier\n",
        "from sklearn.metrics import accuracy_score, f1_score, roc_auc_score, precision_score, recall_score, classification_report, ConfusionMatrixDisplay, RocCurveDisplay\n",
        ""
      ],
      "metadata": {
        "id": "ifN7QUJZu5IO"
      },
      "execution_count": 3,
      "outputs": []
    },
    {
      "cell_type": "code",
      "source": [
        "from google.colab import drive\n",
        "drive.mount('/content/gdrive', force_remount = True)"
      ],
      "metadata": {
        "colab": {
          "base_uri": "https://localhost:8080/"
        },
        "id": "SfAaCPRyvRS8",
        "outputId": "7139d429-f830-415f-9860-333adc6d796c"
      },
      "execution_count": 4,
      "outputs": [
        {
          "output_type": "stream",
          "name": "stdout",
          "text": [
            "Mounted at /content/gdrive\n"
          ]
        }
      ]
    },
    {
      "cell_type": "code",
      "source": [
        "gdrive_rootpath = '/content/gdrive/My Drive/'"
      ],
      "metadata": {
        "id": "dhn3JIT-v6Jn"
      },
      "execution_count": 7,
      "outputs": []
    },
    {
      "cell_type": "code",
      "source": [
        "\n",
        "if os.path.exists(gdrive_rootpath + 'mimic_in_hosp_death_clean.csv'):\n",
        "  print('Importing file from Google Drive...')\n",
        "  df = pd.read_csv(gdrive_rootpath + 'mimic_in_hosp_death_clean.csv')\n",
        "else:\n",
        "  print('Importing file from external link...')\n",
        "  df = pd.read_csv('https://dl.dropboxusercontent.com/s/0g9rio6jz5zb8ow/mimic_in_hosp_death_clean.csv')"
      ],
      "metadata": {
        "colab": {
          "base_uri": "https://localhost:8080/"
        },
        "id": "_yrw86i7vq9N",
        "outputId": "37afad5f-a6fd-4949-a6fe-a55cabf63a05"
      },
      "execution_count": 8,
      "outputs": [
        {
          "output_type": "stream",
          "name": "stdout",
          "text": [
            "Importing file from external link...\n"
          ]
        }
      ]
    },
    {
      "cell_type": "code",
      "source": [
        "df.info()"
      ],
      "metadata": {
        "colab": {
          "base_uri": "https://localhost:8080/"
        },
        "id": "ZC6yyP3JwIg1",
        "outputId": "b8f6c45a-c57e-4c3f-9a52-dd8c7cc65079"
      },
      "execution_count": 9,
      "outputs": [
        {
          "output_type": "stream",
          "name": "stdout",
          "text": [
            "<class 'pandas.core.frame.DataFrame'>\n",
            "RangeIndex: 58976 entries, 0 to 58975\n",
            "Data columns (total 65 columns):\n",
            " #   Column                            Non-Null Count  Dtype  \n",
            "---  ------                            --------------  -----  \n",
            " 0   SUBJECT_ID                        58976 non-null  int64  \n",
            " 1   HADM_ID                           58976 non-null  int64  \n",
            " 2   ADMISSION_TYPE                    58976 non-null  object \n",
            " 3   ADMITTIME                         58976 non-null  object \n",
            " 4   DISCHTIME                         58976 non-null  object \n",
            " 5   DEATHTIME                         5854 non-null   object \n",
            " 6   DIAGNOSIS                         58951 non-null  object \n",
            " 7   MARITAL_STATUS                    58976 non-null  object \n",
            " 8   INSURANCE                         58976 non-null  object \n",
            " 9   LANGUAGE                          58976 non-null  object \n",
            " 10  RELIGION                          58976 non-null  object \n",
            " 11  ETHNICITY                         58976 non-null  object \n",
            " 12  GENDER                            58976 non-null  object \n",
            " 13  DOB                               58976 non-null  object \n",
            " 14  LOS_ICU                           58976 non-null  float64\n",
            " 15  CALLOUT_COUNT                     58976 non-null  int64  \n",
            " 16  DIAG_COUNT                        58976 non-null  int64  \n",
            " 17  PRES_COUNT                        58976 non-null  int64  \n",
            " 18  PROC_COUNT                        58976 non-null  int64  \n",
            " 19  CPT_COUNT                         58976 non-null  int64  \n",
            " 20  LAB_COUNT                         58976 non-null  int64  \n",
            " 21  INPUTS_CV_COUNT                   58976 non-null  int64  \n",
            " 22  INPUTS_MV_COUNT                   58976 non-null  int64  \n",
            " 23  OUTPUT_COUNT                      58976 non-null  int64  \n",
            " 24  TRANSFER_COUNT                    58976 non-null  int64  \n",
            " 25  MICRO_COUNT                       58976 non-null  int64  \n",
            " 26  IN_HOSP_DEATH                     58976 non-null  int64  \n",
            " 27  date_of_admission                 58976 non-null  object \n",
            " 28  AGE                               58976 non-null  int64  \n",
            " 29  LOS                               58976 non-null  float64\n",
            " 30  CALLOUT_COUNT_DAY                 58976 non-null  float64\n",
            " 31  PRES_COUNT_DAY                    58976 non-null  float64\n",
            " 32  PROC_COUNT_DAY                    58976 non-null  float64\n",
            " 33  CPT_COUNT_DAY                     58976 non-null  float64\n",
            " 34  LAB_COUNT_DAY                     58976 non-null  float64\n",
            " 35  INPUTS_CV_COUNT_DAY               58976 non-null  float64\n",
            " 36  INPUTS_MV_COUNT_DAY               58976 non-null  float64\n",
            " 37  OUTPUT_COUNT_DAY                  58976 non-null  float64\n",
            " 38  TRANSFER_COUNT_DAY                58976 non-null  float64\n",
            " 39  MICRO_COUNT_DAY                   58976 non-null  float64\n",
            " 40  ADMISSION_TYPE_ELECTIVE           58976 non-null  int64  \n",
            " 41  ADMISSION_TYPE_EMERGENCY          58976 non-null  int64  \n",
            " 42  ADMISSION_TYPE_NEWBORN            58976 non-null  int64  \n",
            " 43  ADMISSION_TYPE_URGENT             58976 non-null  int64  \n",
            " 44  GENDER_F                          58976 non-null  int64  \n",
            " 45  RELIGION_CATHOLIC                 58976 non-null  int64  \n",
            " 46  RELIGION_NOT SPECIFIED            58976 non-null  int64  \n",
            " 47  RELIGION_UNOBTAINABLE             58976 non-null  int64  \n",
            " 48  RELIGION_OTHERS                   58976 non-null  int64  \n",
            " 49  INSURANCE_Medicare                58976 non-null  int64  \n",
            " 50  INSURANCE_Private                 58976 non-null  int64  \n",
            " 51  INSURANCE_Medicaid                58976 non-null  int64  \n",
            " 52  INSURANCE_OTHERS                  58976 non-null  int64  \n",
            " 53  MARITAL_STATUS_MARRIED            58976 non-null  int64  \n",
            " 54  MARITAL_STATUS_SINGLE             58976 non-null  int64  \n",
            " 55  MARITAL_STATUS_UNKNOWN (DEFAULT)  58976 non-null  int64  \n",
            " 56  MARITAL_STATUS_OTHERS             58976 non-null  int64  \n",
            " 57  LANGUAGE_ENGL                     58976 non-null  int64  \n",
            " 58  LANGUAGE_SPAN                     58976 non-null  int64  \n",
            " 59  LANGUAGE_RUSS                     58976 non-null  int64  \n",
            " 60  LANGUAGE_OTHERS                   58976 non-null  int64  \n",
            " 61  ETHNICITY_WHITE                   58976 non-null  int64  \n",
            " 62  ETHNICITY_BLACK/AFRICAN AMERICAN  58976 non-null  int64  \n",
            " 63  ETHNICITY_UNKNOWN/NOT SPECIFIED   58976 non-null  int64  \n",
            " 64  ETHNICITY_OTHERS                  58976 non-null  int64  \n",
            "dtypes: float64(12), int64(40), object(13)\n",
            "memory usage: 29.2+ MB\n"
          ]
        }
      ]
    }
  ]
}